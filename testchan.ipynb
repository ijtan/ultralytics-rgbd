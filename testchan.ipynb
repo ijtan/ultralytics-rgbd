{
 "cells": [
  {
   "cell_type": "code",
   "execution_count": 1,
   "metadata": {},
   "outputs": [
    {
     "name": "stdout",
     "output_type": "stream",
     "text": [
      "(1000, 1500, 4)\n"
     ]
    }
   ],
   "source": [
    "dir = r\"E:\\MSc\\Dissertation\\Depth_Merged_CCGrayscale 16-bit\\val\\images\"\n",
    "import os\n",
    "import cv2\n",
    "\n",
    "first = os.listdir(dir)[0]\n",
    "img = cv2.imread(os.path.join(dir, first), cv2.IMREAD_UNCHANGED)\n",
    "print(img.shape)"
   ]
  },
  {
   "cell_type": "code",
   "execution_count": null,
   "metadata": {},
   "outputs": [],
   "source": []
  }
 ],
 "metadata": {
  "kernelspec": {
   "display_name": "yolov8",
   "language": "python",
   "name": "python3"
  },
  "language_info": {
   "codemirror_mode": {
    "name": "ipython",
    "version": 3
   },
   "file_extension": ".py",
   "mimetype": "text/x-python",
   "name": "python",
   "nbconvert_exporter": "python",
   "pygments_lexer": "ipython3",
   "version": "3.11.5"
  }
 },
 "nbformat": 4,
 "nbformat_minor": 2
}
